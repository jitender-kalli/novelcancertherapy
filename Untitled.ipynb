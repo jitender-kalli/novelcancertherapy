{
 "cells": [
  {
   "cell_type": "code",
   "execution_count": 57,
   "id": "2f8f866c-4f6c-4cce-8b87-38d16dd47197",
   "metadata": {
    "tags": []
   },
   "outputs": [
    {
     "name": "stdout",
     "output_type": "stream",
     "text": [
      "165\n"
     ]
    }
   ],
   "source": [
    "import numpy as np\n",
    "import pandas as pd\n",
    "import os\n",
    "import sys\n",
    "\n",
    "\n",
    "def uniquepeptidecheck():\n",
    "    df = pd.read_csv(\"lungpeptides.csv\", sep=',')\n",
    "    df2 = pd.read_csv(\"normalpeptides.csv\", sep='\\t',names=[\"peptide\", \"core\", \"icore\", \"score\"]);\n",
    "    #usecols=[\"peptide\"];\n",
    "    #df.columns=df[\"peptide\"];\n",
    "    lungpeptides=df[\"peptide\"].tolist()\n",
    "    normalpeptides=df2[\"peptide\"].tolist()\n",
    "    uniquepeptides = [];\n",
    "    tbunique=[];\n",
    "    #cancerpeptides=['ALQPFPAPV', 'SQVEKLVRV', 'YLXXXXXLL'];\n",
    "    count=0;\n",
    "    for i in lungpeptides:\n",
    "        if i in normalpeptides:\n",
    "            count+=1;\n",
    "        else:  \n",
    "            tbunique.append(i);\n",
    "    \n",
    "    for x in tbunique :\n",
    "        for j in normalpeptides:\n",
    "            score=0;\n",
    "            for k in range(len(i)):\n",
    "                if(x[k] ==j[k]):\n",
    "                    score+=1;\n",
    "            if score>=5:\n",
    "                try:\n",
    "                    tbunique.remove(x);\n",
    "                except ValueError:\n",
    "                    pass;\n",
    "    print(len(tbunique));\n",
    "uniquepeptidecheck();"
   ]
  },
  {
   "cell_type": "code",
   "execution_count": 12,
   "id": "2f3563b0-e29b-4fb3-bd5a-d24d6b422d63",
   "metadata": {},
   "outputs": [
    {
     "name": "stdout",
     "output_type": "stream",
     "text": [
      "-330\n"
     ]
    }
   ],
   "source": [
    "print(21542-21872);"
   ]
  },
  {
   "cell_type": "code",
   "execution_count": 52,
   "id": "ee566a62-c8b8-4c14-9d86-38dc1a558198",
   "metadata": {},
   "outputs": [
    {
     "name": "stdout",
     "output_type": "stream",
     "text": [
      "['DEF']\n"
     ]
    }
   ],
   "source": [
    "a=[\"ABC\",\"DEF\"]\n",
    "b=[\"BBC\",\"JEL\"]\n",
    "for i in a:\n",
    "    for j in b:\n",
    "        score=0;\n",
    "        for k in range(len(i)):\n",
    "            if(i[k] ==j[k]):\n",
    "                score+=1;\n",
    "        if score>=2:\n",
    "            a.remove(i);\n",
    "print(a);"
   ]
  },
  {
   "cell_type": "code",
   "execution_count": null,
   "id": "fb114e05-18b6-4782-9682-07f54883836b",
   "metadata": {},
   "outputs": [],
   "source": [
    "try:\n",
    "    a.remove(10)\n",
    "except ValueError:\n",
    "    pass "
   ]
  }
 ],
 "metadata": {
  "kernelspec": {
   "display_name": "Python 3 (ipykernel)",
   "language": "python",
   "name": "python3"
  },
  "language_info": {
   "codemirror_mode": {
    "name": "ipython",
    "version": 3
   },
   "file_extension": ".py",
   "mimetype": "text/x-python",
   "name": "python",
   "nbconvert_exporter": "python",
   "pygments_lexer": "ipython3",
   "version": "3.9.5"
  }
 },
 "nbformat": 4,
 "nbformat_minor": 5
}
